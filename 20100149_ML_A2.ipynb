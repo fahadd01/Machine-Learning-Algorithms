{
 "cells": [
  {
   "cell_type": "code",
   "execution_count": 1,
   "metadata": {},
   "outputs": [],
   "source": [
    "import numpy as np\n",
    "import matplotlib.pyplot as plt\n",
    "import cv2\n",
    "import pandas as pd\n",
    "import os\n",
    "from skimage.io import imread, imshow\n",
    "from skimage.transform import resize\n",
    "from skimage.feature import hog\n",
    "from skimage import exposure\n",
    "import matplotlib.pyplot as plt\n",
    "from scipy import stats\n",
    "import statistics \n",
    "from statistics import mode\n",
    "from collections import Counter\n",
    "import sklearn\n",
    "from sklearn.neighbors import KNeighborsClassifier\n",
    "from sklearn import metrics\n",
    "from sklearn.metrics import classification_report, confusion_matrix\n",
    "from sklearn.metrics import accuracy_score\n",
    "from itertools import permutations\n",
    "%matplotlib inline"
   ]
  },
  {
   "cell_type": "code",
   "execution_count": 2,
   "metadata": {},
   "outputs": [],
   "source": [
    "#Question 1"
   ]
  },
  {
   "cell_type": "code",
   "execution_count": 3,
   "metadata": {},
   "outputs": [],
   "source": [
    "#PRE TASK WORK i.e data reading and feature extraction\n",
    "def readData(folder_name):\n",
    "    data = []\n",
    "    Categories = ['cats','dogs']\n",
    "    for category in Categories:\n",
    "        folder = os.path.join(folder_name,category)\n",
    "        label = Categories.index(category)\n",
    "        for img in os.listdir(folder):\n",
    "            img_path = os.path.join(folder,img)\n",
    "            img_array = cv2.imread(img_path)\n",
    "            data.append([img_array, label])\n",
    "    X = []\n",
    "    Y = []\n",
    "    for features,labels in data:\n",
    "        X.append(features)\n",
    "        Y.append(labels)\n",
    "    X = np.array(X, dtype = object)\n",
    "    Y = np.array(Y, dtype = int)\n",
    "    return X,Y\n",
    "def make_hog(img_array):\n",
    "    resized_img = []\n",
    "    hog_imgA = []\n",
    "    fdA = []    \n",
    "    for i in range (len(img_array)):\n",
    "        resized_img.append(resize(img_array[i], (64,32)))\n",
    "        fd, hog_img = hog(resized_img[i], orientations=9, pixels_per_cell=(8, 8),cells_per_block=(2, 2), visualize=True, multichannel=True)\n",
    "        fdA.append(fd)\n",
    "        hog_imgA.append(hog_img)\n",
    "    DATA = np.array(fdA)\n",
    "    return DATA"
   ]
  },
  {
   "cell_type": "code",
   "execution_count": 4,
   "metadata": {},
   "outputs": [],
   "source": [
    "#Data and label saved\n",
    "TRAIN  = make_hog(readData('training_set')[0])\n",
    "TEST = make_hog(readData('test_set')[0])\n",
    "Y = readData('test_set')[1]\n",
    "YT = readData('training_set')[1]"
   ]
  },
  {
   "cell_type": "code",
   "execution_count": 6,
   "metadata": {},
   "outputs": [
    {
     "name": "stdout",
     "output_type": "stream",
     "text": [
      "[[1.0], [1.0], [1.0], [1.0], [1.0], [1.0], [1.0], [1.0], [1.0], [1.0], [1.0], [1.0], [1.0], [1.0], [1.0], [1.0], [1.0], [1.0], [1.0], [1.0], [1.0], [1.0], [1.0], [1.0], [1.0], [1.0], [1.0], [1.0], [1.0], [1.0], [1.0], [1.0], [1.0], [1.0], [1.0], [1.0], [1.0], [1.0], [1.0], [1.0], [1.0], [1.0], [1.0], [0.0], [1.0], [1.0], [1.0], [1.0], [1.0], [1.0], [1.0], [1.0], [1.0], [1.0], [1.0], [1.0], [1.0], [1.0], [0.0], [1.0], [1.0], [0.0], [1.0], [1.0], [1.0], [1.0], [1.0], [1.0], [1.0], [1.0], [1.0], [1.0], [1.0], [1.0], [1.0], [1.0], [1.0], [1.0], [1.0], [1.0], [1.0], [1.0], [1.0], [1.0], [1.0], [1.0], [1.0], [1.0], [1.0], [1.0], [1.0], [1.0], [1.0], [1.0], [1.0], [1.0], [1.0], [1.0], [1.0], [1.0], [1.0], [1.0], [1.0], [1.0], [1.0], [1.0], [1.0], [1.0], [1.0], [0.0], [1.0], [0.0], [1.0], [1.0], [0.0], [1.0], [1.0], [1.0], [1.0], [0.0], [1.0], [1.0], [1.0], [1.0], [1.0], [1.0], [1.0], [1.0], [1.0], [1.0], [1.0], [1.0], [1.0], [0.0], [1.0], [1.0], [1.0], [1.0], [0.0], [1.0], [1.0], [1.0], [1.0], [1.0], [0.0], [1.0], [1.0], [1.0], [1.0], [1.0], [1.0], [1.0], [1.0], [1.0], [1.0], [1.0], [1.0], [1.0], [1.0], [0.0], [1.0], [1.0], [1.0], [1.0], [1.0], [1.0], [1.0], [1.0], [0.0], [1.0], [1.0], [1.0], [1.0], [1.0], [1.0], [1.0], [1.0], [1.0], [0.0], [1.0], [1.0], [1.0], [1.0], [1.0], [1.0], [1.0], [1.0], [0.0], [0.0], [1.0], [1.0], [1.0], [1.0], [0.0], [1.0], [0.0], [1.0], [1.0], [1.0], [0.0], [1.0], [1.0], [1.0], [1.0], [1.0], [1.0], [1.0], [1.0], [1.0], [1.0], [1.0], [1.0], [1.0], [1.0], [0.0], [1.0], [1.0], [1.0], [1.0], [1.0], [1.0], [1.0], [1.0], [1.0], [1.0], [1.0], [1.0], [1.0], [1.0], [1.0], [1.0], [1.0], [1.0], [1.0], [1.0], [1.0], [1.0], [1.0], [1.0], [1.0], [1.0], [1.0], [0.0], [1.0], [1.0], [1.0], [1.0], [1.0], [1.0], [1.0], [1.0], [1.0], [1.0], [1.0], [1.0], [1.0], [1.0], [1.0], [1.0], [1.0], [1.0], [1.0], [1.0], [1.0], [1.0], [1.0], [1.0], [1.0], [1.0], [1.0], [1.0], [1.0], [1.0], [1.0], [1.0], [1.0], [1.0], [1.0], [1.0], [1.0], [1.0], [1.0], [1.0], [1.0], [1.0], [0.0], [0.0], [1.0], [1.0], [1.0], [1.0], [1.0], [1.0], [1.0], [1.0], [1.0], [1.0], [1.0], [1.0], [1.0], [1.0], [0.0], [1.0], [1.0], [1.0], [1.0], [1.0], [1.0], [1.0], [1.0], [1.0], [1.0], [1.0], [1.0], [1.0], [1.0], [1.0], [0.0], [1.0], [1.0], [1.0], [0.0], [1.0], [1.0], [1.0], [1.0], [1.0], [1.0], [1.0], [1.0], [1.0], [1.0], [1.0], [1.0], [1.0], [1.0], [1.0], [1.0], [1.0], [1.0], [1.0], [1.0], [0.0], [1.0], [1.0], [1.0], [1.0], [0.0], [1.0], [1.0], [0.0], [1.0], [1.0], [1.0], [1.0], [1.0], [1.0], [1.0], [1.0], [1.0], [0.0], [1.0], [1.0], [1.0], [1.0], [1.0], [1.0], [1.0], [1.0], [0.0], [1.0], [1.0], [1.0], [1.0], [0.0], [1.0], [1.0], [1.0], [1.0], [1.0], [0.0], [1.0], [1.0], [1.0], [1.0], [1.0], [1.0], [1.0], [1.0], [1.0], [1.0], [1.0], [1.0], [1.0], [1.0], [1.0], [0.0], [1.0], [1.0], [1.0], [1.0], [1.0], [1.0], [1.0], [0.0], [1.0], [1.0], [1.0], [1.0], [1.0], [1.0], [1.0], [1.0], [1.0], [1.0], [1.0], [1.0], [1.0], [1.0], [1.0], [1.0], [1.0], [0.0], [1.0], [1.0], [1.0], [1.0], [0.0], [1.0], [1.0], [1.0], [1.0], [1.0], [1.0], [0.0], [0.0], [1.0], [1.0], [1.0], [1.0], [0.0], [1.0], [1.0], [1.0], [0.0], [1.0], [0.0], [1.0], [1.0], [1.0], [1.0], [1.0], [1.0], [0.0], [1.0], [1.0], [1.0], [1.0], [1.0], [1.0], [1.0], [1.0], [1.0], [1.0], [1.0], [1.0], [1.0], [1.0], [1.0], [1.0], [1.0], [1.0], [1.0], [0.0], [1.0], [1.0], [1.0], [1.0], [1.0], [1.0], [1.0], [1.0], [1.0], [1.0], [1.0], [1.0], [1.0], [1.0], [1.0], [1.0], [0.0], [1.0], [1.0], [1.0], [1.0], [1.0], [1.0], [1.0], [1.0], [1.0], [1.0], [1.0], [1.0], [1.0], [1.0], [1.0], [1.0], [1.0], [1.0], [1.0], [1.0], [1.0], [1.0], [1.0], [1.0], [1.0], [1.0], [1.0], [1.0], [1.0], [1.0], [1.0], [1.0], [1.0], [0.0], [1.0], [1.0], [1.0], [1.0], [1.0], [1.0], [0.0], [1.0], [1.0], [1.0], [1.0], [1.0], [1.0], [1.0], [1.0], [1.0], [1.0], [1.0], [1.0], [1.0], [1.0], [1.0], [1.0], [1.0], [1.0], [1.0], [1.0], [1.0], [1.0], [1.0], [1.0], [1.0], [0.0], [0.0], [1.0], [1.0], [1.0], [1.0], [1.0], [1.0], [1.0], [1.0], [1.0], [1.0], [1.0], [1.0], [1.0], [1.0], [1.0], [1.0], [0.0], [1.0], [1.0], [1.0], [0.0], [1.0], [1.0], [1.0], [1.0], [1.0], [1.0], [1.0], [1.0], [1.0], [1.0], [1.0], [1.0], [1.0], [1.0], [1.0], [1.0], [1.0], [1.0], [0.0], [1.0], [1.0], [1.0], [1.0], [1.0], [1.0], [1.0], [1.0], [1.0], [0.0], [1.0], [1.0], [1.0], [1.0], [0.0], [1.0], [1.0], [1.0], [1.0], [1.0], [1.0], [0.0], [1.0], [1.0], [0.0], [1.0], [1.0], [1.0], [1.0], [1.0], [1.0], [1.0], [1.0], [1.0], [1.0], [1.0], [1.0], [1.0], [1.0], [1.0], [1.0], [1.0], [1.0], [0.0], [1.0], [1.0], [1.0], [1.0], [1.0], [1.0], [1.0], [1.0], [1.0], [1.0], [1.0], [1.0], [1.0], [1.0], [1.0], [1.0], [1.0], [1.0], [1.0], [1.0], [1.0], [1.0], [1.0], [1.0], [1.0], [1.0], [1.0], [1.0], [1.0], [1.0], [1.0], [1.0], [1.0], [0.0], [1.0], [1.0], [1.0], [1.0], [1.0], [1.0], [1.0], [1.0], [1.0], [1.0], [1.0], [1.0], [1.0], [1.0], [1.0], [1.0], [1.0], [1.0], [1.0], [1.0], [1.0], [1.0], [1.0], [1.0], [1.0], [1.0], [1.0], [1.0], [0.0], [1.0], [1.0], [1.0], [1.0], [1.0], [1.0], [1.0], [1.0], [1.0], [1.0], [1.0], [1.0], [1.0], [1.0], [1.0], [1.0], [1.0], [0.0], [1.0], [1.0], [1.0], [1.0], [1.0], [1.0], [1.0], [1.0], [1.0], [1.0], [1.0], [1.0], [1.0], [1.0], [1.0], [1.0], [1.0], [0.0], [1.0], [1.0], [1.0], [1.0], [1.0], [0.0], [1.0], [1.0], [1.0], [1.0], [1.0], [1.0], [1.0], [1.0], [0.0], [1.0], [1.0], [1.0], [1.0], [1.0], [1.0], [1.0], [1.0], [1.0], [1.0], [1.0], [0.0], [1.0], [1.0], [1.0], [1.0], [1.0], [1.0], [1.0], [1.0], [1.0], [1.0], [1.0], [0.0], [1.0], [1.0], [1.0], [1.0], [1.0], [1.0], [1.0], [1.0], [1.0], [1.0], [1.0], [1.0], [1.0], [1.0], [1.0], [1.0], [1.0], [1.0], [1.0], [1.0], [1.0], [1.0], [0.0], [1.0], [1.0], [1.0], [1.0], [1.0], [1.0], [1.0], [1.0], [1.0], [1.0], [1.0], [1.0], [1.0], [1.0], [1.0], [0.0], [1.0], [0.0], [1.0], [1.0], [1.0], [1.0], [1.0], [1.0], [1.0], [1.0], [1.0], [1.0], [1.0], [0.0], [1.0], [1.0], [1.0], [0.0], [1.0], [1.0], [1.0], [1.0], [0.0], [1.0], [1.0], [1.0], [1.0], [1.0], [1.0], [1.0], [1.0], [1.0], [1.0], [1.0], [1.0], [1.0], [1.0], [1.0], [1.0], [1.0], [1.0], [1.0], [1.0], [1.0], [1.0], [1.0], [1.0], [1.0], [1.0], [1.0], [1.0], [1.0], [1.0], [1.0], [1.0], [1.0], [1.0], [1.0], [1.0], [1.0], [1.0], [1.0], [1.0], [1.0], [1.0], [1.0], [1.0], [0.0], [1.0], [0.0], [1.0], [1.0], [1.0], [1.0], [1.0], [0.0], [1.0], [1.0], [1.0], [1.0], [0.0], [1.0], [1.0], [1.0], [1.0], [1.0], [1.0], [1.0], [1.0], [1.0], [1.0], [1.0], [1.0], [1.0], [1.0], [1.0], [1.0], [1.0], [1.0], [1.0], [1.0], [1.0], [1.0], [1.0], [1.0], [1.0], [1.0], [1.0], [1.0], [1.0], [1.0], [1.0], [1.0], [0.0], [1.0], [1.0], [1.0], [1.0], [1.0], [1.0], [0.0], [1.0], [1.0], [1.0], [1.0], [1.0], [1.0], [1.0], [1.0], [1.0], [1.0], [0.0], [1.0], [1.0], [1.0], [1.0], [1.0], [1.0], [1.0], [1.0], [1.0], [1.0], [1.0], [1.0], [1.0], [1.0], [1.0], [1.0], [1.0], [1.0], [1.0], [1.0], [1.0], [1.0], [1.0], [1.0], [1.0], [1.0], [0.0], [1.0], [1.0], [1.0], [1.0], [1.0], [1.0], [1.0], [1.0], [1.0], [1.0], [1.0], [1.0], [1.0], [1.0], [1.0], [1.0], [1.0], [1.0], [1.0], [0.0], [1.0], [1.0], [1.0], [1.0], [1.0], [1.0], [1.0], [1.0], [1.0], [1.0], [1.0], [1.0], [1.0], [1.0], [1.0], [1.0], [1.0], [1.0], [1.0], [1.0], [0.0], [1.0], [1.0], [1.0], [1.0], [0.0], [1.0], [1.0], [1.0], [1.0], [1.0], [1.0], [1.0], [1.0], [1.0], [1.0], [1.0], [1.0], [1.0], [0.0], [1.0], [1.0], [1.0], [1.0], [0.0], [1.0], [1.0], [1.0], [1.0], [1.0], [1.0], [1.0], [1.0], [0.0], [1.0], [1.0], [1.0], [1.0], [1.0], [1.0], [1.0], [1.0], [1.0], [1.0], [1.0], [1.0], [1.0], [0.0], [1.0], [0.0], [1.0], [1.0], [1.0], [1.0], [1.0], [1.0], [1.0], [1.0], [1.0], [1.0], [1.0], [1.0], [1.0], [1.0], [0.0], [1.0], [1.0], [1.0], [1.0], [1.0], [1.0], [1.0], [1.0], [1.0], [1.0], [1.0], [1.0], [1.0], [1.0], [1.0], [1.0], [0.0], [1.0], [1.0], [1.0], [1.0], [1.0], [1.0], [1.0], [1.0], [1.0], [1.0], [1.0], [1.0], [1.0], [1.0], [1.0], [1.0], [1.0], [1.0], [1.0], [1.0], [0.0], [1.0], [1.0], [1.0], [1.0], [1.0], [1.0], [1.0], [1.0], [1.0], [1.0], [0.0], [1.0], [1.0], [0.0], [1.0], [1.0], [1.0], [1.0], [0.0], [0.0], [1.0], [1.0], [1.0], [1.0], [1.0], [1.0], [1.0], [1.0], [0.0], [1.0], [1.0], [1.0], [1.0], [1.0], [1.0], [1.0], [1.0], [1.0], [1.0], [1.0], [1.0], [1.0], [1.0], [1.0], [0.0], [1.0], [1.0], [1.0], [1.0], [1.0], [1.0], [1.0], [1.0], [1.0], [1.0], [1.0], [1.0], [1.0], [1.0], [1.0], [1.0], [0.0], [1.0], [0.0], [1.0], [1.0], [1.0], [1.0], [1.0], [1.0], [1.0], [1.0], [1.0], [1.0], [1.0], [1.0], [1.0], [1.0], [1.0], [1.0], [1.0], [1.0], [1.0], [1.0], [1.0], [1.0], [0.0], [1.0], [1.0], [1.0], [1.0], [1.0], [1.0], [1.0], [1.0], [1.0], [1.0], [1.0], [1.0], [1.0], [1.0], [1.0], [1.0], [1.0], [1.0], [1.0], [1.0], [1.0], [0.0], [1.0], [1.0], [1.0], [1.0], [1.0], [1.0], [1.0], [1.0], [1.0], [1.0], [0.0], [0.0], [1.0], [1.0], [1.0], [1.0], [1.0], [0.0], [1.0], [1.0], [1.0], [1.0], [1.0], [1.0], [1.0], [1.0], [1.0], [1.0], [1.0], [1.0], [1.0], [1.0], [1.0], [0.0], [1.0], [1.0], [1.0], [1.0], [1.0], [1.0], [0.0], [1.0], [1.0], [0.0], [1.0], [1.0], [1.0], [1.0], [1.0], [1.0], [1.0], [1.0], [1.0], [1.0], [1.0], [1.0], [0.0], [1.0], [1.0], [1.0], [1.0], [1.0], [1.0], [1.0], [1.0], [1.0], [1.0], [1.0], [1.0], [1.0], [1.0], [1.0], [1.0], [1.0], [1.0], [1.0], [0.0], [1.0], [1.0], [1.0], [1.0], [1.0], [1.0], [1.0], [0.0], [1.0], [1.0], [1.0], [1.0], [1.0], [1.0], [1.0], [1.0], [1.0], [1.0], [1.0], [1.0], [1.0], [1.0], [1.0], [1.0], [1.0], [1.0], [1.0], [1.0], [1.0], [1.0], [1.0], [1.0], [1.0], [1.0], [1.0], [1.0], [0.0], [1.0], [1.0], [1.0], [1.0], [1.0], [1.0], [1.0], [1.0], [1.0], [1.0], [1.0], [1.0], [1.0], [0.0], [0.0], [1.0], [1.0], [1.0], [1.0], [1.0], [1.0], [1.0], [1.0], [1.0], [1.0], [1.0], [0.0], [1.0], [1.0], [1.0], [1.0], [1.0], [1.0], [1.0], [1.0], [1.0], [1.0], [1.0], [1.0], [1.0], [1.0], [1.0], [1.0], [1.0], [1.0], [1.0], [1.0], [1.0], [1.0], [1.0], [1.0], [1.0], [1.0], [1.0], [1.0], [1.0], [1.0], [1.0], [1.0], [0.0], [1.0], [1.0], [1.0], [1.0], [0.0], [1.0], [1.0], [1.0], [1.0], [1.0], [1.0], [1.0], [1.0], [0.0], [1.0], [1.0], [1.0], [1.0], [1.0], [1.0], [1.0], [1.0], [1.0], [1.0], [1.0], [1.0], [1.0], [1.0], [1.0], [1.0], [1.0], [1.0], [1.0], [1.0], [1.0], [1.0], [1.0], [1.0], [1.0], [1.0], [1.0], [1.0], [1.0], [1.0], [1.0], [1.0], [1.0], [1.0], [0.0], [1.0], [1.0], [1.0], [1.0], [1.0], [1.0], [1.0], [1.0], [1.0], [0.0], [1.0], [1.0], [1.0], [0.0], [1.0], [1.0], [1.0], [1.0], [1.0], [1.0], [1.0], [0.0], [1.0], [1.0], [1.0], [1.0], [1.0], [1.0], [1.0], [1.0], [1.0], [1.0], [1.0], [1.0], [1.0], [1.0], [1.0], [1.0], [1.0], [1.0], [1.0], [1.0], [0.0], [1.0], [1.0], [1.0], [0.0], [1.0], [1.0], [1.0], [1.0], [1.0], [1.0], [1.0], [1.0], [1.0], [1.0], [1.0], [1.0], [1.0], [1.0], [1.0], [1.0], [1.0], [1.0], [1.0], [1.0], [1.0], [1.0], [1.0], [1.0], [1.0], [1.0], [1.0], [1.0], [1.0], [1.0], [1.0], [1.0], [1.0], [1.0], [1.0], [1.0], [1.0], [1.0], [1.0], [1.0], [1.0], [1.0], [1.0], [1.0], [1.0], [1.0], [1.0], [1.0], [1.0], [1.0], [1.0], [1.0], [1.0], [1.0], [1.0], [1.0], [1.0], [1.0], [1.0], [1.0], [1.0], [1.0], [1.0], [1.0], [1.0], [1.0], [1.0], [1.0], [1.0], [1.0], [1.0], [0.0], [1.0], [1.0], [0.0], [1.0], [1.0], [1.0], [1.0], [1.0], [1.0], [1.0], [1.0], [1.0], [1.0], [1.0], [1.0], [1.0], [1.0], [1.0], [1.0], [1.0], [1.0], [1.0], [1.0], [1.0], [1.0], [1.0], [1.0], [1.0], [1.0], [1.0], [1.0], [1.0], [1.0], [1.0], [1.0], [1.0], [1.0], [1.0], [1.0], [1.0], [1.0], [1.0], [1.0], [1.0], [1.0], [1.0], [0.0], [1.0], [0.0], [0.0], [1.0], [1.0], [1.0], [1.0], [1.0], [1.0], [1.0], [1.0], [1.0], [1.0], [1.0], [1.0], [1.0], [1.0], [1.0], [1.0], [1.0], [1.0], [1.0], [0.0], [1.0], [1.0], [1.0], [1.0], [1.0], [1.0], [1.0], [1.0], [1.0], [0.0], [1.0], [1.0], [1.0], [1.0], [1.0], [1.0], [1.0], [1.0], [0.0], [1.0], [1.0], [1.0], [1.0], [1.0], [1.0], [1.0], [1.0], [0.0], [1.0], [1.0], [1.0], [0.0], [1.0], [1.0], [1.0], [1.0], [1.0], [1.0], [1.0], [1.0], [1.0], [1.0], [1.0], [1.0], [1.0], [1.0], [1.0], [1.0], [1.0], [1.0], [1.0], [1.0], [1.0], [1.0], [1.0], [1.0], [0.0], [0.0], [1.0], [1.0], [0.0], [1.0], [1.0], [1.0], [1.0], [1.0], [1.0], [1.0], [1.0], [1.0], [1.0], [0.0], [1.0], [0.0], [1.0], [1.0], [1.0], [1.0], [0.0], [0.0], [0.0], [1.0], [0.0], [1.0], [1.0], [1.0], [1.0], [1.0], [1.0], [1.0], [1.0], [1.0], [1.0], [1.0], [1.0], [0.0], [1.0], [1.0], [1.0], [1.0], [1.0], [1.0], [1.0], [0.0], [1.0], [1.0], [1.0], [1.0], [1.0], [1.0], [1.0], [1.0], [1.0], [1.0], [0.0], [1.0], [1.0], [1.0], [1.0], [1.0], [1.0], [1.0], [1.0], [1.0], [1.0], [1.0], [1.0], [1.0], [1.0], [1.0], [1.0], [1.0], [1.0], [1.0], [1.0], [1.0], [1.0], [1.0], [1.0], [1.0], [1.0], [1.0], [1.0], [1.0], [1.0], [1.0], [1.0], [1.0], [1.0], [1.0], [1.0], [1.0], [1.0], [1.0], [0.0], [1.0], [1.0], [1.0], [1.0], [1.0], [0.0], [1.0], [1.0], [1.0], [1.0], [0.0], [1.0], [0.0], [1.0], [1.0], [1.0], [0.0], [1.0], [1.0], [1.0], [1.0], [1.0], [1.0], [1.0], [1.0], [1.0], [1.0], [1.0], [1.0], [1.0], [1.0], [0.0], [1.0], [1.0], [1.0], [1.0], [1.0], [1.0], [1.0], [0.0], [1.0], [1.0], [1.0], [1.0], [1.0], [0.0], [1.0], [1.0], [1.0], [1.0], [1.0], [1.0], [0.0], [1.0], [1.0], [1.0], [1.0], [1.0], [1.0], [0.0], [1.0], [1.0], [1.0], [1.0], [1.0], [0.0], [1.0], [1.0], [1.0], [1.0], [1.0], [1.0], [1.0], [1.0], [0.0], [1.0], [1.0], [1.0], [1.0], [1.0], [1.0], [1.0], [1.0], [1.0], [1.0], [1.0], [1.0], [0.0], [1.0], [1.0], [1.0], [1.0], [1.0], [1.0], [1.0], [1.0], [0.0], [1.0], [1.0], [1.0], [1.0], [1.0], [1.0], [1.0], [1.0], [1.0], [1.0], [1.0], [1.0], [1.0], [1.0], [1.0], [1.0], [1.0], [1.0], [1.0], [1.0], [1.0], [1.0], [1.0], [1.0], [1.0], [1.0], [1.0], [1.0], [1.0], [1.0], [1.0], [1.0], [1.0], [1.0], [1.0], [1.0], [1.0], [1.0], [1.0], [1.0], [1.0], [1.0], [0.0], [1.0], [1.0], [1.0], [1.0], [0.0], [1.0], [1.0], [1.0], [0.0], [1.0], [1.0], [1.0], [0.0], [1.0], [1.0], [0.0], [1.0], [1.0], [1.0], [1.0], [1.0], [1.0], [1.0], [1.0], [1.0], [1.0], [1.0], [1.0], [1.0], [1.0], [1.0], [1.0], [1.0], [1.0], [1.0], [1.0], [1.0], [1.0], [1.0], [1.0], [1.0], [1.0], [0.0], [1.0], [1.0], [1.0], [1.0], [1.0], [0.0], [1.0], [1.0], [1.0], [1.0], [1.0], [1.0], [0.0], [1.0], [1.0], [1.0], [1.0], [1.0], [1.0]]\n"
     ]
    }
   ],
   "source": [
    "#TASK 1\n",
    "def my_mode(sample):\n",
    "    c = Counter(sample)\n",
    "    return [k for k, v in c.items() if v == c.most_common(1)[0][1]]\n",
    "def k_nn(k,test_n, norm):\n",
    "    dist = []\n",
    "    for j in range (test_n):\n",
    "        for i in range (len(TRAIN)):\n",
    "            if norm == 0:\n",
    "                distances = np.sqrt(np.sum(np.square(TEST[j] - TRAIN[i])))\n",
    "            if norm == 1:\n",
    "                distances = np.sum(abs(TEST[j] - TRAIN[i]))\n",
    "            dist.append(distances)\n",
    "    dist = np.array(dist)\n",
    "    dist = dist.reshape(len(TRAIN),len(TEST))\n",
    "    lab_dist = np.column_stack((dist,YT))\n",
    "    Yhat = []\n",
    "    for i in range (len(TEST)):\n",
    "        sort_dist = lab_dist[np.argsort(lab_dist[:, i])]\n",
    "        k_nn = sort_dist[0:k]\n",
    "        m = my_mode(k_nn[:, (len(TEST))])\n",
    "        Yhat.append(m)\n",
    "    return Yhat\n",
    "print(k_nn(7,len(TEST),0))"
   ]
  },
  {
   "cell_type": "code",
   "execution_count": 7,
   "metadata": {
    "scrolled": true
   },
   "outputs": [
    {
     "name": "stdout",
     "output_type": "stream",
     "text": [
      "    0    1\n",
      "0  79  921\n",
      "1  86  914\n"
     ]
    }
   ],
   "source": [
    "#Task 2\n",
    "#confusion matrix\n",
    "def confusion_M(k, norm):\n",
    "    currentDataClass = Y\n",
    "    predictedClass = k_nn(k,len(TEST),norm)\n",
    "    classes = set(currentDataClass)\n",
    "    number_of_classes = len(classes)\n",
    "    conf_matrix = pd.DataFrame(np.zeros((number_of_classes, number_of_classes),dtype=int),index=classes,columns=classes)\n",
    "    for i, j in zip(currentDataClass,predictedClass):\n",
    "        conf_matrix.loc[i, j] += 1\n",
    "    return conf_matrix\n",
    "print(confusion_M(7,0))"
   ]
  },
  {
   "cell_type": "code",
   "execution_count": 8,
   "metadata": {},
   "outputs": [
    {
     "name": "stdout",
     "output_type": "stream",
     "text": [
      "accuracy =  0.4965\n",
      "f1_score =  0.1356223175965665\n",
      "F1 Score is the weighted average of Precision and Recall\n",
      "Therefore, this score takes both false positives and false negatives into account\n",
      "Intuitively it is not as easy to understand as accuracy, but F1 is usually more useful than accuracy,\n",
      "especially if you have an uneven class distribution\n",
      "Accuracy works best if false positives and false negatives have similar cost\n",
      "If the cost of false positives and false negatives are very different\n",
      "It’s better to look at both Precision and Recall\n",
      "Moreover, F1 lets us give weight to \"how many more\" times we prefer recall over precision\n"
     ]
    }
   ],
   "source": [
    "#Accuracy\n",
    "#F1 score\n",
    "\n",
    "def accuracy_metric(actual, predicted):\n",
    "    correct = 0\n",
    "    for i in range(len(actual)):\n",
    "        if actual[i] == predicted[i]:\n",
    "            correct += 1\n",
    "    return correct / float(len(actual))\n",
    "print('accuracy = ',accuracy_metric(Y, k_nn(7,len(TEST), 0)))\n",
    "def f_1(k,norm):\n",
    "    C = confusion_M(k, norm)\n",
    "    tp = C[0][0]\n",
    "    tn = C[1][1]\n",
    "    fp = C[1][0]\n",
    "    fn = C[0][1]\n",
    "    f1 = (2*tp)/((2*tp)+fp+fn)\n",
    "    return f1\n",
    "print('f1_score = ',f_1(7,0))\n",
    "\n",
    "print('F1 Score is the weighted average of Precision and Recall')\n",
    "print('Therefore, this score takes both false positives and false negatives into account')\n",
    "print('Intuitively it is not as easy to understand as accuracy, but F1 is usually more useful than accuracy,')\n",
    "print('especially if you have an uneven class distribution')\n",
    "print('Accuracy works best if false positives and false negatives have similar cost')\n",
    "print('If the cost of false positives and false negatives are very different')\n",
    "print('It’s better to look at both Precision and Recall')\n",
    "print('Moreover, F1 lets us give weight to \"how many more\" times we prefer recall over precision')"
   ]
  },
  {
   "cell_type": "code",
   "execution_count": null,
   "metadata": {},
   "outputs": [
    {
     "name": "stdout",
     "output_type": "stream",
     "text": [
      "k = 1\n",
      "Euclidean\n"
     ]
    }
   ],
   "source": [
    "#Task 3\n",
    "for i in range(1,8):\n",
    "    print('k =',i)\n",
    "    for j in range (2):\n",
    "        if j == 0:\n",
    "            print('Euclidean')\n",
    "            print(k_nn(i, len(TEST), j))\n",
    "        if j == 1:\n",
    "            print('Manhattan')\n",
    "            print(k_nn(i, len(TEST), j))"
   ]
  },
  {
   "cell_type": "code",
   "execution_count": 54,
   "metadata": {},
   "outputs": [],
   "source": [
    "#Task 4\n",
    "def k_nn_tieBreaker(k,test_n, norm):\n",
    "    dist = []\n",
    "    for j in range (test_n):\n",
    "        for i in range (len(TRAIN)):\n",
    "            if norm == 0:\n",
    "                distances = np.sqrt(np.sum(np.square(TEST[j] - TRAIN[i])))\n",
    "            if norm == 1:\n",
    "                distances = np.sum(abs(TEST[j] - TRAIN[i]))\n",
    "            dist.append(distances)\n",
    "    dist = np.array(dist)\n",
    "    dist = dist.reshape(len(TRAIN),len(TEST))\n",
    "    lab_dist = np.column_stack((dist, YT))\n",
    "    Yhat = []\n",
    "    for i in range (len(TEST)):\n",
    "        sort_dist = lab_dist[np.argsort(lab_dist[:, i])]\n",
    "        k_nn = sort_dist[0:k]\n",
    "        m = my_mode(k_nn[:, (len(TEST))])\n",
    "        if (len(m) > 1):\n",
    "            for i in range (len(TEST)):\n",
    "                sort_dist = lab_dist[np.argsort(lab_dist[:, i])]\n",
    "                k = k-1\n",
    "                k_nn = sort_dist[0:k]\n",
    "                m = my_mode(k_nn[:, (len(TEST))])\n",
    "                if k == 1:\n",
    "                    break\n",
    "        Yhat.append(m)\n",
    "    return Yhat"
   ]
  },
  {
   "cell_type": "code",
   "execution_count": 13,
   "metadata": {},
   "outputs": [
    {
     "name": "stdout",
     "output_type": "stream",
     "text": [
      "k = 1\n",
      "Euclidean\n",
      "[[0.0], [0.0], [0.0], [0.0], [0.0], [0.0], [0.0], [1.0], [0.0], [1.0], [1.0], [1.0]]\n",
      "Manhattan\n",
      "[[0.0], [0.0], [0.0], [0.0], [0.0], [0.0], [1.0], [1.0], [0.0], [1.0], [1.0], [1.0]]\n",
      "k = 2\n",
      "Euclidean\n",
      "[[0.0], [0.0], [0.0], [0.0], [0.0], [0.0], [0.0], [1.0], [0.0], [1.0], [1.0], [1.0]]\n",
      "Manhattan\n",
      "[[0.0], [0.0], [0.0], [0.0], [0.0], [0.0], [1.0], [1.0], [0.0], [1.0], [1.0], [1.0]]\n",
      "k = 3\n",
      "Euclidean\n",
      "[[1.0], [0.0], [0.0], [0.0], [1.0], [1.0], [1.0], [1.0], [0.0], [1.0], [1.0], [1.0]]\n",
      "Manhattan\n",
      "[[1.0], [0.0], [0.0], [0.0], [1.0], [1.0], [1.0], [1.0], [0.0], [1.0], [1.0], [1.0]]\n",
      "k = 4\n",
      "Euclidean\n",
      "[[1.0], [0.0], [0.0], [0.0], [0.0], [0.0], [0.0], [1.0], [0.0], [1.0], [1.0], [1.0]]\n",
      "Manhattan\n",
      "[[1.0], [0.0], [0.0], [0.0], [0.0], [0.0], [1.0], [1.0], [0.0], [1.0], [1.0], [1.0]]\n",
      "k = 5\n",
      "Euclidean\n",
      "[[1.0], [0.0], [0.0], [1.0], [1.0], [1.0], [1.0], [1.0], [1.0], [1.0], [1.0], [1.0]]\n",
      "Manhattan\n",
      "[[1.0], [1.0], [0.0], [0.0], [1.0], [0.0], [1.0], [1.0], [1.0], [1.0], [1.0], [1.0]]\n",
      "k = 6\n",
      "Euclidean\n",
      "[[1.0], [0.0], [0.0], [0.0], [0.0], [0.0], [0.0], [1.0], [0.0], [1.0], [1.0], [1.0]]\n",
      "Manhattan\n",
      "[[1.0], [0.0], [0.0], [0.0], [0.0], [0.0], [1.0], [1.0], [0.0], [1.0], [1.0], [1.0]]\n",
      "k = 7\n",
      "Euclidean\n",
      "[[1.0], [1.0], [0.0], [1.0], [1.0], [1.0], [1.0], [1.0], [1.0], [1.0], [1.0], [1.0]]\n",
      "Manhattan\n",
      "[[1.0], [0.0], [0.0], [1.0], [1.0], [0.0], [1.0], [1.0], [1.0], [1.0], [1.0], [1.0]]\n"
     ]
    }
   ],
   "source": [
    "Y_hat_E = []\n",
    "Y_hat_M = []\n",
    "for i in range(1,8):\n",
    "    print('k =',i)\n",
    "    for j in range (2):\n",
    "        if j == 0:\n",
    "            print('Euclidean')\n",
    "            print(k_nn_tieBreaker(i, len(TEST), j))\n",
    "            Y_hat_E.append(k_nn_tieBreaker(i, len(TEST), j))\n",
    "        if j == 1:\n",
    "            print('Manhattan')\n",
    "            print(k_nn_tieBreaker(i, len(TEST), j))\n",
    "            Y_hat_M.append(k_nn_tieBreaker(i, len(TEST), j))\n",
    "Y_hat_E = np.array(Y_hat_E)\n",
    "Y_hat_M = np.array(Y_hat_M)"
   ]
  },
  {
   "cell_type": "code",
   "execution_count": 152,
   "metadata": {},
   "outputs": [
    {
     "data": {
      "image/png": "[encoded data removed]",
      "text/plain": [
       "<Figure size 432x288 with 1 Axes>"
      ]
     },
     "metadata": {
      "needs_background": "light"
     },
     "output_type": "display_data"
    }
   ],
   "source": [
    "#Task 5\n",
    "F1E = []\n",
    "F1M = []\n",
    "k=[]\n",
    "for i in range (1,8):\n",
    "    F1E.append(f_1(i, 0))\n",
    "    F1M.append(f_1(i, 1))\n",
    "    k.append(i)\n",
    "plt.plot(k,F1E, label = 'Euclidean')\n",
    "plt.plot(k,F1M, label = 'Manhattan')\n",
    "plt.xlabel(\"k\")\n",
    "plt.ylabel(\"f1\")\n",
    "plt.legend()\n",
    "plt.show()"
   ]
  },
  {
   "cell_type": "code",
   "execution_count": 15,
   "metadata": {},
   "outputs": [],
   "source": [
    "#QUESTION 2"
   ]
  },
  {
   "cell_type": "code",
   "execution_count": 157,
   "metadata": {},
   "outputs": [
    {
     "name": "stdout",
     "output_type": "stream",
     "text": [
      "Euclidean\n",
      "k = 1\n",
      "accuracy =  0.9166666666666666\n",
      "f1 score =  0.916083916083916\n",
      "confusion matrix = \n",
      " [[5 1]\n",
      " [0 6]]\n",
      "k = 2\n",
      "accuracy =  0.8333333333333334\n",
      "f1 score =  0.8333333333333334\n",
      "confusion matrix = \n",
      " [[5 1]\n",
      " [1 5]]\n",
      "k = 3\n",
      "accuracy =  0.5833333333333334\n",
      "f1 score =  0.49579831932773105\n",
      "confusion matrix = \n",
      " [[1 5]\n",
      " [0 6]]\n",
      "k = 4\n",
      "accuracy =  0.5833333333333334\n",
      "f1 score =  0.5804195804195804\n",
      "confusion matrix = \n",
      " [[3 3]\n",
      " [2 4]]\n",
      "k = 5\n",
      "accuracy =  0.3333333333333333\n",
      "f1 score =  0.25\n",
      "confusion matrix = \n",
      " [[0 6]\n",
      " [2 4]]\n",
      "k = 6\n",
      "accuracy =  0.4166666666666667\n",
      "f1 score =  0.37777777777777777\n",
      "confusion matrix = \n",
      " [[1 5]\n",
      " [2 4]]\n",
      "k = 7\n",
      "accuracy =  0.5\n",
      "f1 score =  0.3333333333333333\n",
      "confusion matrix = \n",
      " [[0 6]\n",
      " [0 6]]\n",
      "Manhattan\n",
      "k = 1\n",
      "accuracy =  0.8333333333333334\n",
      "f1 score =  0.8333333333333334\n",
      "confusion matrix = \n",
      " [[5 1]\n",
      " [1 5]]\n",
      "k = 2\n",
      "accuracy =  0.6666666666666666\n",
      "f1 score =  0.6571428571428571\n",
      "confusion matrix = \n",
      " [[5 1]\n",
      " [3 3]]\n",
      "k = 3\n",
      "accuracy =  0.5833333333333334\n",
      "f1 score =  0.5804195804195804\n",
      "confusion matrix = \n",
      " [[3 3]\n",
      " [2 4]]\n",
      "k = 4\n",
      "accuracy =  0.6666666666666666\n",
      "f1 score =  0.6666666666666666\n",
      "confusion matrix = \n",
      " [[4 2]\n",
      " [2 4]]\n",
      "k = 5\n",
      "accuracy =  0.5\n",
      "f1 score =  0.48571428571428577\n",
      "confusion matrix = \n",
      " [[2 4]\n",
      " [2 4]]\n",
      "k = 6\n",
      "accuracy =  0.75\n",
      "f1 score =  0.7482517482517481\n",
      "confusion matrix = \n",
      " [[5 1]\n",
      " [2 4]]\n",
      "k = 7\n",
      "accuracy =  0.5833333333333334\n",
      "f1 score =  0.5555555555555556\n",
      "confusion matrix = \n",
      " [[2 4]\n",
      " [1 5]]\n"
     ]
    }
   ],
   "source": [
    "k_range = range (1,8)\n",
    "scores = {}\n",
    "scores_listE = []\n",
    "scores_listM = []\n",
    "print('Euclidean')\n",
    "for k in k_range:\n",
    "    knn = KNeighborsClassifier(n_neighbors=k)\n",
    "    knn.fit(TRAIN,YT)\n",
    "    YhatE = knn.predict(TEST)\n",
    "    scores[k] = metrics.accuracy_score(Y,YhatE)\n",
    "    scores_listE.append(metrics.accuracy_score(Y,YhatE))\n",
    "    print('k =',k)\n",
    "    print('accuracy = ',accuracy_score(Y, YhatE))\n",
    "    print('f1 score = ',f1_score(Y, YhatE, average = 'macro'))\n",
    "    print('confusion matrix = \\n',confusion_matrix(Y, YhatE))\n",
    "print('Manhattan')\n",
    "for k in k_range:\n",
    "    knn = KNeighborsClassifier(n_neighbors=k,p=1)\n",
    "    knn.fit(TRAIN,YT)\n",
    "    YhatM = knn.predict(TEST)\n",
    "    scores[k] = metrics.accuracy_score(Y,YhatM)\n",
    "    scores_listM.append(metrics.accuracy_score(Y,YhatM))\n",
    "    print('k =',k)\n",
    "    print('accuracy = ',accuracy_score(Y, YhatM))\n",
    "    print('f1 score = ',f1_score(Y, YhatM, average = 'macro'))\n",
    "    print('confusion matrix = \\n',confusion_matrix(Y, YhatM))"
   ]
  },
  {
   "cell_type": "code",
   "execution_count": 158,
   "metadata": {},
   "outputs": [
    {
     "data": {
      "text/plain": [
       "<matplotlib.legend.Legend at 0x17700604bc8>"
      ]
     },
     "execution_count": 158,
     "metadata": {},
     "output_type": "execute_result"
    },
    {
     "data": {
      "image/png": "[encoded data removed]",
      "text/plain": [
       "<Figure size 432x288 with 1 Axes>"
      ]
     },
     "metadata": {
      "needs_background": "light"
     },
     "output_type": "display_data"
    }
   ],
   "source": [
    "plt.plot(k_range,scores_listE, label = 'Euclidean')\n",
    "plt.plot(k_range,scores_listM, label = 'Manhattan')\n",
    "plt.xlabel(\"k\")\n",
    "plt.ylabel(\"f\")\n",
    "plt.legend()"
   ]
  },
  {
   "cell_type": "code",
   "execution_count": 18,
   "metadata": {},
   "outputs": [],
   "source": [
    "#Question 3"
   ]
  },
  {
   "cell_type": "code",
   "execution_count": 42,
   "metadata": {},
   "outputs": [],
   "source": [
    "#PRE TASK WORK i.e data reading and feature extraction\n",
    "def readData_N(folder_name, category_names):\n",
    "    data = []\n",
    "    Categories = category_names\n",
    "    for category in Categories:\n",
    "        folder = os.path.join(folder_name,category)\n",
    "        label = Categories.index(category)\n",
    "        for img in os.listdir(folder):\n",
    "            img_path = os.path.join(folder,img)\n",
    "            img_array = cv2.imread(img_path)\n",
    "            data.append([img_array, label])\n",
    "    X = []\n",
    "    Y = []\n",
    "    for features, labels in data:\n",
    "        X.append(features)\n",
    "        Y.append(labels)\n",
    "    X = np.array(X)\n",
    "    Y = np.array(Y, dtype = int)\n",
    "    return X,Y\n",
    "def feature_extract(img_array):\n",
    "    resized_img = []\n",
    "    flat_image = []\n",
    "    fdA = []    \n",
    "    for i in range (len(img_array)):\n",
    "        resized_img.append(resize(img_array[i], (32,32)))\n",
    "        flattened = np.array(resized_img[i].flatten())\n",
    "        flat_image.append(flattened)\n",
    "    DATA = np.array(flat_image)\n",
    "    return DATA\n",
    "#feature_extract(readData('TTTRAIN', ['Cloudy', 'Rain', 'Shine', 'Sunrise'])[0])"
   ]
  },
  {
   "cell_type": "code",
   "execution_count": 43,
   "metadata": {},
   "outputs": [],
   "source": [
    "TRAIN_N  = feature_extract(readData_N('Training data', ['Cloudy', 'Rain', 'Shine', 'Sunrise'])[0])\n",
    "TEST_N = feature_extract(readData_N('Test data', ['Cloudy', 'Rain', 'Shine', 'Sunrise'])[0])\n",
    "Y_N = readData('TTTEST', ['Cloudy', 'Rain', 'Shine', 'Sunrise'])[1]\n",
    "YT_N = readData('TTTRAIN', ['Cloudy', 'Rain', 'Shine', 'Sunrise'])[1]"
   ]
  },
  {
   "cell_type": "code",
   "execution_count": 136,
   "metadata": {},
   "outputs": [
    {
     "name": "stdout",
     "output_type": "stream",
     "text": [
      "[[0.0], [2.0], [0.0], [0.0], [0.0, 1.0], [0.0], [0.0], [0.0], [0.0], [0.0], [0.0], [1.0], [1.0, 0.0], [1.0], [1.0], [1.0], [3.0], [0.0], [1.0], [0.0], [0.0], [1.0], [1.0], [1.0], [2.0], [0.0], [0.0], [1.0], [1.0], [1.0], [0.0, 1.0], [2.0], [1.0], [1.0, 0.0], [0.0], [0.0], [0.0], [0.0], [3.0], [3.0], [0.0, 3.0], [0.0], [0.0], [0.0, 2.0], [0.0, 3.0], [0.0], [3.0], [0.0]]\n"
     ]
    }
   ],
   "source": [
    "#Task 1\n",
    "def my_mode(sample):\n",
    "    c = Counter(sample)\n",
    "    return [k for k, v in c.items() if v == c.most_common(1)[0][1]]\n",
    "def k_nn_N(k,test_n, norm):\n",
    "    dist = []\n",
    "    for j in range (test_n):\n",
    "        for i in range (len(TRAIN_N)):\n",
    "            if norm == 0:\n",
    "                distances = np.sqrt(np.sum(np.square(TEST_N[j] - TRAIN_N[i])))\n",
    "            if norm == 1:\n",
    "                distances = np.sum(abs(TEST_N[j] - TRAIN_N[i]))\n",
    "            dist.append(distances)\n",
    "    dist = np.array(dist)\n",
    "    dist = dist.reshape(len(TRAIN_N),len(TEST_N))\n",
    "    lab_dist = np.column_stack((dist, YT_N))\n",
    "    Yhat_N = []\n",
    "    for i in range (len(TEST_N)):\n",
    "        sort_dist = lab_dist[np.argsort(lab_dist[:, i])]\n",
    "        k_nn = sort_dist[0:k]\n",
    "        m = my_mode(k_nn[:, (len(TEST_N))])\n",
    "        Yhat_N.append(m)\n",
    "    return Yhat_N\n",
    "print(k_nn_N(7, len(TEST_N), 0))"
   ]
  },
  {
   "cell_type": "code",
   "execution_count": 45,
   "metadata": {},
   "outputs": [
    {
     "name": "stdout",
     "output_type": "stream",
     "text": [
      "[[10  2  1  0]\n",
      " [ 4  8  0  1]\n",
      " [ 6  6  2  0]\n",
      " [ 9  0  1  5]]\n"
     ]
    }
   ],
   "source": [
    "#Task 2\n",
    "#confusion matrix\n",
    "currentDataClass = Y_N\n",
    "predictedClass = k_nn_N(7,len(TEST_N),0)\n",
    "\n",
    "classes = set(currentDataClass)\n",
    "number_of_classes = len(classes)\n",
    "\n",
    "conf_matrix = pd.DataFrame(\n",
    "    np.zeros((number_of_classes, number_of_classes),dtype=int),\n",
    "    index=classes,\n",
    "    columns=classes)\n",
    "\n",
    "for i, j in zip(currentDataClass,predictedClass):\n",
    "        conf_matrix.loc[i, j] += 1\n",
    "\n",
    "print(conf_matrix.values)"
   ]
  },
  {
   "cell_type": "code",
   "execution_count": 134,
   "metadata": {},
   "outputs": [
    {
     "ename": "ValueError",
     "evalue": "The truth value of an array with more than one element is ambiguous. Use a.any() or a.all()",
     "output_type": "error",
     "traceback": [
      "\u001b[1;31m---------------------------------------------------------------------------\u001b[0m",
      "\u001b[1;31mValueError\u001b[0m                                Traceback (most recent call last)",
      "\u001b[1;32m<ipython-input-134-ab3974a6107f>\u001b[0m in \u001b[0;36m<module>\u001b[1;34m\u001b[0m\n\u001b[0;32m      5\u001b[0m             \u001b[0mcorrect\u001b[0m \u001b[1;33m+=\u001b[0m \u001b[1;36m1\u001b[0m\u001b[1;33m\u001b[0m\u001b[1;33m\u001b[0m\u001b[0m\n\u001b[0;32m      6\u001b[0m     \u001b[1;32mreturn\u001b[0m \u001b[0mcorrect\u001b[0m \u001b[1;33m/\u001b[0m \u001b[0mfloat\u001b[0m\u001b[1;33m(\u001b[0m\u001b[0mlen\u001b[0m\u001b[1;33m(\u001b[0m\u001b[0mactual\u001b[0m\u001b[1;33m)\u001b[0m\u001b[1;33m)\u001b[0m \u001b[1;33m*\u001b[0m \u001b[1;36m100.0\u001b[0m\u001b[1;33m\u001b[0m\u001b[1;33m\u001b[0m\u001b[0m\n\u001b[1;32m----> 7\u001b[1;33m \u001b[0mprint\u001b[0m\u001b[1;33m(\u001b[0m\u001b[0maccuracy_metric\u001b[0m\u001b[1;33m(\u001b[0m\u001b[0mY_N\u001b[0m\u001b[1;33m,\u001b[0m \u001b[0mk_nn_N\u001b[0m\u001b[1;33m(\u001b[0m\u001b[1;36m7\u001b[0m\u001b[1;33m,\u001b[0m\u001b[0mlen\u001b[0m\u001b[1;33m(\u001b[0m\u001b[0mTEST_N\u001b[0m\u001b[1;33m)\u001b[0m\u001b[1;33m,\u001b[0m \u001b[1;36m0\u001b[0m\u001b[1;33m)\u001b[0m\u001b[1;33m)\u001b[0m\u001b[1;33m)\u001b[0m\u001b[1;33m\u001b[0m\u001b[1;33m\u001b[0m\u001b[0m\n\u001b[0m",
      "\u001b[1;32m<ipython-input-134-ab3974a6107f>\u001b[0m in \u001b[0;36maccuracy_metric\u001b[1;34m(actual, predicted)\u001b[0m\n\u001b[0;32m      2\u001b[0m     \u001b[0mcorrect\u001b[0m \u001b[1;33m=\u001b[0m \u001b[1;36m0\u001b[0m\u001b[1;33m\u001b[0m\u001b[1;33m\u001b[0m\u001b[0m\n\u001b[0;32m      3\u001b[0m     \u001b[1;32mfor\u001b[0m \u001b[0mi\u001b[0m \u001b[1;32min\u001b[0m \u001b[0mrange\u001b[0m\u001b[1;33m(\u001b[0m\u001b[0mlen\u001b[0m\u001b[1;33m(\u001b[0m\u001b[0mactual\u001b[0m\u001b[1;33m)\u001b[0m\u001b[1;33m)\u001b[0m\u001b[1;33m:\u001b[0m\u001b[1;33m\u001b[0m\u001b[1;33m\u001b[0m\u001b[0m\n\u001b[1;32m----> 4\u001b[1;33m         \u001b[1;32mif\u001b[0m \u001b[0mactual\u001b[0m\u001b[1;33m[\u001b[0m\u001b[0mi\u001b[0m\u001b[1;33m]\u001b[0m \u001b[1;33m==\u001b[0m \u001b[0mpredicted\u001b[0m\u001b[1;33m[\u001b[0m\u001b[0mi\u001b[0m\u001b[1;33m]\u001b[0m\u001b[1;33m:\u001b[0m\u001b[1;33m\u001b[0m\u001b[1;33m\u001b[0m\u001b[0m\n\u001b[0m\u001b[0;32m      5\u001b[0m             \u001b[0mcorrect\u001b[0m \u001b[1;33m+=\u001b[0m \u001b[1;36m1\u001b[0m\u001b[1;33m\u001b[0m\u001b[1;33m\u001b[0m\u001b[0m\n\u001b[0;32m      6\u001b[0m     \u001b[1;32mreturn\u001b[0m \u001b[0mcorrect\u001b[0m \u001b[1;33m/\u001b[0m \u001b[0mfloat\u001b[0m\u001b[1;33m(\u001b[0m\u001b[0mlen\u001b[0m\u001b[1;33m(\u001b[0m\u001b[0mactual\u001b[0m\u001b[1;33m)\u001b[0m\u001b[1;33m)\u001b[0m \u001b[1;33m*\u001b[0m \u001b[1;36m100.0\u001b[0m\u001b[1;33m\u001b[0m\u001b[1;33m\u001b[0m\u001b[0m\n",
      "\u001b[1;31mValueError\u001b[0m: The truth value of an array with more than one element is ambiguous. Use a.any() or a.all()"
     ]
    }
   ],
   "source": [
    "#Accuracy and f1_score\n",
    "'''\n",
    "def accuracy_metric(actual, predicted):\n",
    "    correct = 0\n",
    "    for i in range(len(actual)):\n",
    "        if actual[i] == predicted[i]:\n",
    "            correct += 1\n",
    "    return correct / float(len(actual))\n",
    "'''\n",
    "'''\n",
    "def f1_macro(pred, true, classes):\n",
    "  f1 = np.zeros(classes)\n",
    "  for i in range(classes):\n",
    "      TP = 0\n",
    "      TN = 0\n",
    "      FP = 0\n",
    "      FN = 0\n",
    "      for j in range(pred):\n",
    "          if pred[j] == i and i == true[j]:\n",
    "              TP += 1\n",
    "          elif pred[j] != i and i != true[j]:\n",
    "              TN += 1\n",
    "\n",
    "          elif pred[i] == i and i != true[j]:\n",
    "              FP += 1\n",
    "          elif pred[i] != i and i == true[j]:\n",
    "              FN += 1\n",
    "      f1[i] = 2*TP / (2*TP + FP + FN)\n",
    "  return np.mean(f1)\n",
    "'''\n",
    "print('accuracy = ', accuracy_score(Y_N, ))\n",
    "print('f1 score = ', f1_score(Y_N, k_nn_N(7, len(TEST_N), 0, average = 'macro'))"
   ]
  },
  {
   "cell_type": "code",
   "execution_count": 137,
   "metadata": {},
   "outputs": [
    {
     "name": "stdout",
     "output_type": "stream",
     "text": [
      "k = 1\n",
      "Euclidean\n",
      "[[3.0], [2.0], [0.0], [0.0], [0.0], [0.0], [0.0], [0.0], [0.0], [3.0], [0.0], [0.0], [1.0], [0.0], [0.0], [1.0], [0.0], [0.0], [1.0], [1.0], [0.0], [1.0], [1.0], [2.0], [0.0], [2.0], [2.0], [2.0], [1.0], [1.0], [0.0], [2.0], [2.0], [2.0], [0.0], [1.0], [0.0], [0.0], [3.0], [3.0], [2.0], [3.0], [0.0], [0.0], [0.0], [3.0], [3.0], [3.0]]\n",
      "Manhattan\n",
      "[[3.0], [2.0], [0.0], [0.0], [0.0], [0.0], [0.0], [0.0], [0.0], [3.0], [0.0], [0.0], [1.0], [0.0], [0.0], [0.0], [3.0], [0.0], [1.0], [1.0], [0.0], [1.0], [1.0], [1.0], [0.0], [2.0], [2.0], [2.0], [0.0], [1.0], [0.0], [2.0], [2.0], [2.0], [0.0], [1.0], [2.0], [0.0], [3.0], [3.0], [2.0], [3.0], [0.0], [0.0], [0.0], [3.0], [3.0], [0.0]]\n",
      "k = 2\n",
      "Euclidean\n",
      "[[3.0, 0.0], [2.0, 0.0], [0.0, 1.0], [0.0], [0.0], [0.0], [0.0, 2.0], [0.0, 3.0], [0.0], [3.0, 0.0], [0.0], [0.0, 1.0], [1.0, 0.0], [0.0, 1.0], [0.0, 1.0], [1.0, 0.0], [0.0, 3.0], [0.0], [1.0, 0.0], [1.0, 0.0], [0.0, 3.0], [1.0, 2.0], [1.0, 0.0], [2.0, 1.0], [0.0, 1.0], [2.0, 1.0], [2.0, 0.0], [2.0, 1.0], [1.0, 0.0], [1.0], [0.0, 1.0], [2.0, 0.0], [2.0, 1.0], [2.0, 1.0], [0.0], [1.0, 0.0], [0.0, 2.0], [0.0], [3.0], [3.0], [2.0, 0.0], [3.0, 0.0], [0.0], [0.0], [0.0, 1.0], [3.0, 0.0], [3.0], [3.0, 0.0]]\n",
      "Manhattan\n",
      "[[3.0], [2.0], [0.0, 1.0], [0.0], [0.0], [0.0], [0.0, 2.0], [0.0], [0.0], [3.0, 0.0], [0.0], [0.0, 1.0], [1.0, 0.0], [0.0, 1.0], [0.0, 1.0], [0.0], [3.0], [0.0], [1.0, 0.0], [1.0, 0.0], [0.0, 3.0], [1.0], [1.0, 0.0], [1.0, 2.0], [0.0, 1.0], [2.0], [2.0, 0.0], [2.0], [0.0, 2.0], [1.0], [0.0, 1.0], [2.0, 0.0], [2.0, 1.0], [2.0, 1.0], [0.0, 2.0], [1.0, 0.0], [2.0, 0.0], [0.0], [3.0], [3.0], [2.0, 3.0], [3.0], [0.0], [0.0], [0.0, 1.0], [3.0, 0.0], [3.0], [0.0, 3.0]]\n",
      "k = 3\n",
      "Euclidean\n",
      "[[3.0, 0.0, 1.0], [2.0], [1.0], [0.0], [0.0], [0.0], [0.0, 2.0, 1.0], [0.0], [0.0], [0.0], [0.0], [1.0], [0.0], [1.0], [1.0], [0.0], [3.0], [0.0], [0.0], [0.0], [0.0, 3.0, 1.0], [1.0], [1.0], [1.0], [0.0, 1.0, 2.0], [1.0], [2.0, 0.0, 1.0], [2.0, 1.0, 0.0], [1.0, 0.0, 2.0], [1.0], [1.0], [2.0, 0.0, 1.0], [1.0], [1.0], [0.0], [0.0], [0.0, 2.0, 3.0], [0.0], [3.0], [3.0], [2.0, 0.0, 3.0], [0.0], [0.0], [0.0], [0.0], [3.0], [3.0], [0.0]]\n",
      "Manhattan\n",
      "[[3.0], [2.0], [1.0], [0.0], [0.0], [0.0], [0.0, 2.0, 1.0], [0.0], [0.0], [3.0], [0.0], [1.0], [1.0], [1.0], [1.0], [0.0], [3.0], [0.0], [1.0], [0.0], [0.0], [1.0], [1.0], [1.0], [0.0, 1.0, 2.0], [2.0], [2.0, 0.0, 1.0], [2.0], [0.0, 2.0, 1.0], [1.0], [0.0, 1.0, 2.0], [2.0], [1.0], [1.0], [0.0], [1.0, 0.0, 2.0], [2.0, 0.0, 3.0], [0.0], [3.0], [3.0], [3.0], [3.0], [0.0], [0.0], [0.0], [3.0], [3.0], [3.0]]\n",
      "k = 4\n",
      "Euclidean\n",
      "[[0.0], [2.0], [0.0, 1.0], [0.0], [0.0], [0.0], [0.0], [0.0], [0.0], [0.0], [0.0], [1.0], [1.0, 0.0], [1.0], [1.0], [1.0, 0.0], [3.0], [0.0, 1.0], [1.0, 0.0], [0.0], [3.0], [1.0], [1.0], [2.0, 1.0], [0.0], [2.0, 1.0], [0.0], [1.0], [2.0], [1.0], [0.0, 1.0], [1.0], [1.0], [1.0], [0.0], [0.0], [0.0], [0.0, 3.0], [3.0], [3.0], [0.0], [3.0, 0.0], [0.0], [0.0], [0.0], [3.0, 0.0], [3.0], [0.0]]\n",
      "Manhattan\n",
      "[[3.0], [2.0], [0.0, 1.0], [0.0], [0.0], [0.0], [0.0], [0.0], [0.0], [3.0, 0.0], [0.0], [1.0], [1.0, 0.0], [1.0], [0.0, 1.0], [0.0, 1.0], [3.0], [0.0], [1.0, 0.0], [0.0], [0.0], [1.0], [1.0], [1.0, 2.0], [2.0], [2.0, 1.0], [0.0], [2.0], [2.0], [1.0], [1.0], [2.0, 0.0], [1.0], [2.0, 1.0], [0.0], [1.0], [0.0], [0.0, 3.0], [3.0], [3.0], [3.0], [3.0, 0.0], [0.0], [0.0], [0.0], [3.0, 0.0], [3.0], [0.0, 3.0]]\n",
      "k = 5\n",
      "Euclidean\n",
      "[[3.0, 0.0], [2.0, 1.0], [1.0], [0.0], [0.0], [0.0], [0.0, 1.0], [0.0], [0.0], [0.0], [0.0], [1.0], [1.0], [1.0], [1.0], [1.0], [3.0], [0.0], [1.0], [0.0], [0.0, 3.0], [1.0], [1.0], [2.0, 1.0], [0.0, 2.0], [2.0, 1.0], [0.0, 1.0], [2.0, 1.0], [0.0, 2.0], [1.0], [0.0, 1.0], [0.0, 1.0], [2.0, 1.0], [1.0, 0.0], [0.0], [1.0, 0.0], [0.0], [0.0, 3.0], [3.0], [3.0], [0.0, 3.0], [3.0, 0.0], [0.0], [0.0], [0.0], [3.0], [3.0], [0.0]]\n",
      "Manhattan\n",
      "[[3.0, 0.0], [2.0], [1.0], [0.0], [0.0], [0.0], [0.0, 1.0], [0.0], [0.0], [0.0], [0.0], [1.0], [1.0], [1.0], [1.0], [1.0], [3.0], [0.0], [0.0], [0.0], [0.0, 3.0], [1.0], [1.0], [1.0, 2.0], [0.0, 2.0], [2.0, 1.0], [0.0], [2.0, 1.0], [2.0], [1.0], [0.0, 1.0], [2.0, 0.0], [2.0, 1.0], [2.0, 1.0], [0.0], [1.0, 0.0], [0.0], [0.0, 3.0], [3.0], [3.0], [3.0], [0.0], [0.0], [0.0], [0.0], [0.0], [3.0], [0.0]]\n",
      "k = 6\n",
      "Euclidean\n",
      "[[0.0], [2.0, 0.0, 1.0], [0.0, 1.0], [0.0, 1.0], [0.0, 1.0], [0.0], [0.0], [0.0], [0.0], [0.0], [0.0], [1.0], [1.0], [1.0], [0.0, 1.0], [1.0], [3.0], [0.0], [1.0, 0.0], [0.0], [0.0, 3.0, 1.0], [1.0], [1.0], [1.0], [0.0, 1.0, 2.0], [2.0, 1.0, 0.0], [0.0], [2.0, 1.0, 0.0], [1.0, 0.0, 2.0], [1.0], [0.0], [2.0, 0.0, 1.0], [1.0], [0.0], [0.0], [0.0], [0.0], [0.0], [3.0], [3.0], [3.0], [0.0], [0.0], [0.0], [0.0], [3.0, 0.0], [3.0], [0.0]]\n",
      "Manhattan\n",
      "[[0.0], [2.0], [0.0, 1.0], [0.0], [0.0, 1.0], [0.0], [0.0], [0.0], [0.0], [0.0], [0.0], [1.0], [1.0, 0.0], [1.0], [1.0], [1.0], [3.0], [0.0], [1.0, 0.0], [0.0], [0.0, 3.0, 1.0], [1.0], [1.0], [1.0], [2.0], [2.0], [0.0], [2.0], [2.0], [1.0], [0.0], [2.0], [2.0, 1.0, 0.0], [2.0, 1.0, 0.0], [0.0], [0.0], [0.0], [3.0], [3.0], [3.0], [3.0], [3.0, 0.0], [0.0], [0.0, 2.0], [0.0], [0.0], [3.0], [0.0]]\n",
      "k = 7\n",
      "Euclidean\n",
      "[[0.0], [2.0], [0.0], [0.0], [0.0, 1.0], [0.0], [0.0], [0.0], [0.0], [0.0], [0.0], [1.0], [1.0, 0.0], [1.0], [1.0], [1.0], [3.0], [0.0], [1.0], [0.0], [0.0], [1.0], [1.0], [1.0], [2.0], [0.0], [0.0], [1.0], [1.0], [1.0], [0.0, 1.0], [2.0], [1.0], [1.0, 0.0], [0.0], [0.0], [0.0], [0.0], [3.0], [3.0], [0.0, 3.0], [0.0], [0.0], [0.0, 2.0], [0.0, 3.0], [0.0], [3.0], [0.0]]\n",
      "Manhattan\n",
      "[[3.0, 0.0], [2.0], [0.0], [0.0], [0.0, 1.0], [0.0], [0.0], [0.0], [0.0], [0.0], [0.0], [1.0], [1.0, 0.0], [1.0], [1.0], [1.0], [3.0], [0.0], [1.0], [0.0], [3.0], [1.0], [1.0], [1.0], [0.0, 2.0], [2.0], [0.0], [2.0], [2.0, 1.0], [1.0], [0.0], [2.0], [2.0], [0.0], [0.0], [0.0], [0.0], [0.0, 3.0], [3.0], [3.0], [3.0, 0.0], [3.0, 0.0], [0.0], [0.0, 2.0], [0.0], [0.0], [3.0], [0.0]]\n"
     ]
    }
   ],
   "source": [
    "#Task 3\n",
    "for i in range(1,8):\n",
    "    print('k =',i)\n",
    "    for j in range (2):\n",
    "        if j == 0:\n",
    "            print('Euclidean')\n",
    "            print(k_nn_N(i, len(TEST_N), j))\n",
    "        if j == 1:\n",
    "            print('Manhattan')\n",
    "            print(k_nn_N(i, len(TEST_N), j))"
   ]
  },
  {
   "cell_type": "code",
   "execution_count": 138,
   "metadata": {},
   "outputs": [],
   "source": []
  },
  {
   "cell_type": "code",
   "execution_count": 142,
   "metadata": {},
   "outputs": [
    {
     "name": "stdout",
     "output_type": "stream",
     "text": [
      "[[0.0], [2.0], [0.0], [0.0], [0.0], [0.0], [0.0], [0.0], [0.0], [3.0], [0.0], [0.0], [1.0], [0.0], [0.0], [1.0], [0.0], [0.0], [1.0], [1.0], [0.0], [1.0], [1.0], [2.0], [0.0], [2.0], [2.0], [2.0], [1.0], [1.0], [0.0], [2.0], [2.0], [2.0], [0.0], [1.0], [0.0], [0.0], [3.0], [3.0], [2.0], [3.0], [0.0], [0.0], [0.0], [3.0], [3.0], [3.0]]\n"
     ]
    }
   ],
   "source": [
    "#Task 4\n",
    "def k_nn_NB(k,test_n, norm):\n",
    "    dist = []\n",
    "    for j in range (test_n):\n",
    "        for i in range (len(TRAIN_N)):\n",
    "            if norm == 0:\n",
    "                distances = np.sqrt(np.sum(np.square(TEST_N[j] - TRAIN_N[i])))\n",
    "            if norm == 1:\n",
    "                distances = np.sum(abs(TEST_N[j] - TRAIN_N[i]))\n",
    "            dist.append(distances)\n",
    "    dist = np.array(dist)\n",
    "    dist = dist.reshape(len(TRAIN_N),len(TEST_N))\n",
    "    lab_dist = np.column_stack((dist, YT_N))\n",
    "    Yhat_N = []\n",
    "    for i in range (len(TEST_N)):\n",
    "        sort_dist = lab_dist[np.argsort(lab_dist[:, i])]\n",
    "        k_nn = sort_dist[0:k]\n",
    "        m = my_mode(k_nn[:, (len(TEST_N))])\n",
    "        if (len(m) > 1):\n",
    "            for i in range (len(TEST_N)):\n",
    "                sort_dist = lab_dist[np.argsort(lab_dist[:, i])]\n",
    "                k = k-1\n",
    "                k_nn = sort_dist[0:k]\n",
    "                m = my_mode(k_nn[:, (len(TEST_N))])\n",
    "                if k == 1:\n",
    "                    break\n",
    "        Yhat_N.append(m)\n",
    "    return Yhat_N"
   ]
  },
  {
   "cell_type": "code",
   "execution_count": 143,
   "metadata": {},
   "outputs": [
    {
     "name": "stdout",
     "output_type": "stream",
     "text": [
      "k = 1\n",
      "Euclidean\n",
      "[[3.0], [2.0], [0.0], [0.0], [0.0], [0.0], [0.0], [0.0], [0.0], [3.0], [0.0], [0.0], [1.0], [0.0], [0.0], [1.0], [0.0], [0.0], [1.0], [1.0], [0.0], [1.0], [1.0], [2.0], [0.0], [2.0], [2.0], [2.0], [1.0], [1.0], [0.0], [2.0], [2.0], [2.0], [0.0], [1.0], [0.0], [0.0], [3.0], [3.0], [2.0], [3.0], [0.0], [0.0], [0.0], [3.0], [3.0], [3.0]]\n",
      "Manhattan\n",
      "[[3.0], [2.0], [0.0], [0.0], [0.0], [0.0], [0.0], [0.0], [0.0], [3.0], [0.0], [0.0], [1.0], [0.0], [0.0], [0.0], [3.0], [0.0], [1.0], [1.0], [0.0], [1.0], [1.0], [1.0], [0.0], [2.0], [2.0], [2.0], [0.0], [1.0], [0.0], [2.0], [2.0], [2.0], [0.0], [1.0], [2.0], [0.0], [3.0], [3.0], [2.0], [3.0], [0.0], [0.0], [0.0], [3.0], [3.0], [0.0]]\n",
      "k = 2\n",
      "Euclidean\n",
      "[[3.0], [2.0], [0.0], [0.0], [0.0], [0.0], [0.0], [0.0], [0.0], [3.0], [0.0], [0.0], [1.0], [0.0], [0.0], [1.0], [0.0], [0.0], [1.0], [1.0], [0.0], [1.0], [1.0], [2.0], [0.0], [2.0], [2.0], [2.0], [1.0], [1.0], [0.0], [2.0], [2.0], [2.0], [0.0], [1.0], [0.0], [0.0], [3.0], [3.0], [2.0], [3.0], [0.0], [0.0], [0.0], [3.0], [3.0], [3.0]]\n",
      "Manhattan\n",
      "[[3.0], [2.0], [3.0], [0.0], [0.0], [0.0], [0.0], [0.0], [0.0], [3.0], [0.0], [0.0], [1.0], [0.0], [0.0], [0.0], [3.0], [0.0], [1.0], [1.0], [0.0], [1.0], [1.0], [1.0], [0.0], [2.0], [2.0], [2.0], [0.0], [1.0], [0.0], [2.0], [2.0], [2.0], [0.0], [1.0], [2.0], [0.0], [3.0], [3.0], [2.0], [3.0], [0.0], [0.0], [0.0], [3.0], [3.0], [0.0]]\n",
      "k = 3\n",
      "Euclidean\n",
      "[[2.0], [2.0], [0.0], [0.0], [0.0], [0.0], [0.0], [0.0], [0.0], [3.0], [0.0], [0.0], [1.0], [0.0], [0.0], [1.0], [0.0], [0.0], [1.0], [1.0], [0.0], [1.0], [1.0], [2.0], [0.0], [2.0], [2.0], [2.0], [1.0], [1.0], [0.0], [2.0], [2.0], [2.0], [0.0], [1.0], [0.0], [0.0], [3.0], [3.0], [2.0], [3.0], [0.0], [0.0], [0.0], [3.0], [3.0], [3.0]]\n",
      "Manhattan\n",
      "[[3.0], [2.0], [1.0], [0.0], [0.0], [0.0], [2.0], [0.0], [0.0], [3.0], [0.0], [0.0], [1.0], [0.0], [0.0], [0.0], [3.0], [0.0], [1.0], [1.0], [0.0], [1.0], [1.0], [1.0], [0.0], [2.0], [2.0], [2.0], [0.0], [1.0], [0.0], [2.0], [2.0], [2.0], [0.0], [1.0], [2.0], [0.0], [3.0], [3.0], [2.0], [3.0], [0.0], [0.0], [0.0], [3.0], [3.0], [0.0]]\n",
      "k = 4\n",
      "Euclidean\n",
      "[[0.0], [2.0], [0.0], [0.0], [0.0], [0.0], [0.0], [0.0], [0.0], [3.0], [0.0], [0.0], [1.0], [0.0], [0.0], [1.0], [0.0], [0.0], [1.0], [1.0], [0.0], [1.0], [1.0], [2.0], [0.0], [2.0], [2.0], [2.0], [1.0], [1.0], [0.0], [2.0], [2.0], [2.0], [0.0], [1.0], [0.0], [0.0], [3.0], [3.0], [2.0], [3.0], [0.0], [0.0], [0.0], [3.0], [3.0], [3.0]]\n",
      "Manhattan\n",
      "[[3.0], [2.0], [0.0], [0.0], [0.0], [0.0], [0.0], [0.0], [0.0], [3.0], [0.0], [0.0], [1.0], [0.0], [0.0], [0.0], [3.0], [0.0], [1.0], [1.0], [0.0], [1.0], [1.0], [1.0], [0.0], [2.0], [2.0], [2.0], [0.0], [1.0], [0.0], [2.0], [2.0], [2.0], [0.0], [1.0], [2.0], [0.0], [3.0], [3.0], [2.0], [3.0], [0.0], [0.0], [0.0], [3.0], [3.0], [0.0]]\n",
      "k = 5\n",
      "Euclidean\n",
      "[[0.0], [2.0], [0.0], [0.0], [0.0], [0.0], [0.0], [0.0], [0.0], [3.0], [0.0], [0.0], [1.0], [0.0], [0.0], [1.0], [0.0], [0.0], [1.0], [1.0], [0.0], [1.0], [1.0], [2.0], [0.0], [2.0], [2.0], [2.0], [1.0], [1.0], [0.0], [2.0], [2.0], [2.0], [0.0], [1.0], [0.0], [0.0], [3.0], [3.0], [2.0], [3.0], [0.0], [0.0], [0.0], [3.0], [3.0], [3.0]]\n",
      "Manhattan\n",
      "[[0.0], [2.0], [0.0], [0.0], [0.0], [0.0], [0.0], [0.0], [0.0], [3.0], [0.0], [0.0], [1.0], [0.0], [0.0], [0.0], [3.0], [0.0], [1.0], [1.0], [0.0], [1.0], [1.0], [1.0], [0.0], [2.0], [2.0], [2.0], [0.0], [1.0], [0.0], [2.0], [2.0], [2.0], [0.0], [1.0], [2.0], [0.0], [3.0], [3.0], [2.0], [3.0], [0.0], [0.0], [0.0], [3.0], [3.0], [0.0]]\n",
      "k = 6\n",
      "Euclidean\n",
      "[[0.0], [0.0], [0.0], [0.0], [0.0], [0.0], [0.0], [0.0], [0.0], [3.0], [0.0], [0.0], [1.0], [0.0], [0.0], [1.0], [0.0], [0.0], [1.0], [1.0], [0.0], [1.0], [1.0], [2.0], [0.0], [2.0], [2.0], [2.0], [1.0], [1.0], [0.0], [2.0], [2.0], [2.0], [0.0], [1.0], [0.0], [0.0], [3.0], [3.0], [2.0], [3.0], [0.0], [0.0], [0.0], [3.0], [3.0], [3.0]]\n",
      "Manhattan\n",
      "[[0.0], [2.0], [0.0], [0.0], [0.0], [0.0], [0.0], [0.0], [0.0], [3.0], [0.0], [0.0], [1.0], [0.0], [0.0], [0.0], [3.0], [0.0], [1.0], [1.0], [0.0], [1.0], [1.0], [1.0], [0.0], [2.0], [2.0], [2.0], [0.0], [1.0], [0.0], [2.0], [2.0], [2.0], [0.0], [1.0], [2.0], [0.0], [3.0], [3.0], [2.0], [3.0], [0.0], [0.0], [0.0], [3.0], [3.0], [0.0]]\n",
      "k = 7\n",
      "Euclidean\n",
      "[[0.0], [2.0], [0.0], [0.0], [0.0], [0.0], [0.0], [0.0], [0.0], [3.0], [0.0], [0.0], [1.0], [0.0], [0.0], [1.0], [0.0], [0.0], [1.0], [1.0], [0.0], [1.0], [1.0], [2.0], [0.0], [2.0], [2.0], [2.0], [1.0], [1.0], [0.0], [2.0], [2.0], [2.0], [0.0], [1.0], [0.0], [0.0], [3.0], [3.0], [2.0], [3.0], [0.0], [0.0], [0.0], [3.0], [3.0], [3.0]]\n",
      "Manhattan\n",
      "[[0.0], [2.0], [0.0], [0.0], [0.0], [0.0], [0.0], [0.0], [0.0], [3.0], [0.0], [0.0], [1.0], [0.0], [0.0], [0.0], [3.0], [0.0], [1.0], [1.0], [0.0], [1.0], [1.0], [1.0], [0.0], [2.0], [2.0], [2.0], [0.0], [1.0], [0.0], [2.0], [2.0], [2.0], [0.0], [1.0], [2.0], [0.0], [3.0], [3.0], [2.0], [3.0], [0.0], [0.0], [0.0], [3.0], [3.0], [0.0]]\n"
     ]
    }
   ],
   "source": [
    "for i in range(1,8):\n",
    "    print('k =',i)\n",
    "    for j in range (2):\n",
    "        if j == 0:\n",
    "            print('Euclidean')\n",
    "            print(k_nn_NB(i, len(TEST_N), j))\n",
    "        if j == 1:\n",
    "            print('Manhattan')\n",
    "            print(k_nn_NB(i, len(TEST_N), j))"
   ]
  },
  {
   "cell_type": "code",
   "execution_count": 149,
   "metadata": {},
   "outputs": [
    {
     "data": {
      "image/png": "[encoded data removed]",
      "text/plain": [
       "<Figure size 432x288 with 1 Axes>"
      ]
     },
     "metadata": {
      "needs_background": "light"
     },
     "output_type": "display_data"
    }
   ],
   "source": [
    "#Task 5\n",
    "F1E_N = []\n",
    "F1M_N = []\n",
    "k_N=[]\n",
    "for i in range (1,8):\n",
    "    F1E_N.append(f1_score(Y_N, k_nn_NB(i,len(TEST_N), 0), average= 'macro'))\n",
    "    F1M_N.append(f1_score(Y_N, k_nn_NB(i,len(TEST_N), 1), average='macro'))\n",
    "    k_N.append(i)\n",
    "plt.plot(k_N,F1E_N, label = 'Euclidean')\n",
    "plt.plot(k_N,F1M_N, label = 'Manhattan')\n",
    "plt.xlabel(\"k\")\n",
    "plt.ylabel(\"f1\")\n",
    "plt.legend()\n",
    "plt.show()"
   ]
  },
  {
   "cell_type": "code",
   "execution_count": null,
   "metadata": {},
   "outputs": [],
   "source": []
  },
  {
   "cell_type": "code",
   "execution_count": null,
   "metadata": {},
   "outputs": [],
   "source": []
  }
 ],
 "metadata": {
  "kernelspec": {
   "display_name": "Python 3",
   "language": "python",
   "name": "python3"
  },
  "language_info": {
   "codemirror_mode": {
    "name": "ipython",
    "version": 3
   },
   "file_extension": ".py",
   "mimetype": "text/x-python",
   "name": "python",
   "nbconvert_exporter": "python",
   "pygments_lexer": "ipython3",
   "version": "3.7.6"
  }
 },
 "nbformat": 4,
 "nbformat_minor": 4
}
