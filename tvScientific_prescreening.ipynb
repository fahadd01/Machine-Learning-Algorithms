{
  "nbformat": 4,
  "nbformat_minor": 0,
  "metadata": {
    "colab": {
      "provenance": []
    },
    "kernelspec": {
      "name": "python3",
      "display_name": "Python 3"
    },
    "language_info": {
      "name": "python"
    }
  },
  "cells": [
    {
      "cell_type": "code",
      "execution_count": 3,
      "metadata": {
        "colab": {
          "base_uri": "https://localhost:8080/"
        },
        "id": "bR3SqV31aytC",
        "outputId": "4a3d1237-799f-4b7c-ab13-76d020000462"
      },
      "outputs": [
        {
          "output_type": "stream",
          "name": "stdout",
          "text": [
            "True\n",
            "False\n"
          ]
        }
      ],
      "source": [
        "# Q1) Given a list of 2-D coordinates, write a function that returns True\n",
        "#     if the points lie on a straight line and False otherwise.\n",
        "#\n",
        "#     Use only the Python standard libraries.\n",
        "#\n",
        "# collinear([[1,1], [2,2], [4,4], [-10, -10]]) = True\n",
        "# collinear([[1,0], [2,0], [3,1]]) = False\n",
        "\n",
        "def collinear(points):\n",
        "\n",
        "    x0, y0 = points[0]\n",
        "    x1, y1 = points[1]\n",
        "    if x1 - x0 == 0:\n",
        "        slope = float('inf')\n",
        "    else:\n",
        "        slope = (y1 - y0) / (x1 - x0)\n",
        "\n",
        "    for i in range(2, len(points)):\n",
        "        xi, yi = points[i]\n",
        "        if xi - x0 == 0:\n",
        "            if slope != float('inf'):\n",
        "                return False\n",
        "        else:\n",
        "            if (yi - y0) / (xi - x0) != slope:\n",
        "                return False\n",
        "    return True\n",
        "\n",
        "print(collinear([[1,1], [2,2], [4,4], [-10, -10]]))\n",
        "print(collinear([[1,0], [2,0], [3,1]]))"
      ]
    },
    {
      "cell_type": "code",
      "source": [
        "# Q2) Define a function that returns the frequencies of the last digits\n",
        "#     of a list of nonnegative integers.\n",
        "#\n",
        "#     Use only the Python standard libraries.\n",
        "#\n",
        "#     Given the list [49, 10, 20, 5, 30, 785]:\n",
        "#     9 is the last digit once (in 49),\n",
        "#     0 is the last digit three times (in 10, 20 and 30)\n",
        "#     5 is the last digit two times (in 785)\n",
        "# last_digit_counts([49, 10, 20, 5, 30, 785])\n",
        "#   = {9:1, 0:3, 5:2} # or something equivalent\n",
        "\n",
        "def last_digit_counts(list):\n",
        "    last_digit_freq = {}\n",
        "    for num in list:\n",
        "        last_digit = num % 10\n",
        "        if last_digit in last_digit_freq:\n",
        "            last_digit_freq[last_digit] += 1\n",
        "        else:\n",
        "            last_digit_freq[last_digit] = 1\n",
        "    return last_digit_freq\n",
        "\n",
        "print(last_digit_counts([49, 10, 20, 5, 30, 785]))"
      ],
      "metadata": {
        "colab": {
          "base_uri": "https://localhost:8080/"
        },
        "id": "6K84TlBPcFaD",
        "outputId": "8d498ce2-c4b9-44ae-bed8-91886d100254"
      },
      "execution_count": 5,
      "outputs": [
        {
          "output_type": "stream",
          "name": "stdout",
          "text": [
            "{9: 1, 0: 3, 5: 2}\n"
          ]
        }
      ]
    },
    {
      "cell_type": "code",
      "source": [
        "# Q3) Using whatever library you like, make an effective\n",
        "#     visualization for the data stored here:\n",
        "#     https://github.com/michaelbilow/open-data/raw/main/spotify-2023.xlsx\n",
        "#     It consists the most streamed songs on Spotify in 2023,\n",
        "#     along with their artist, key, mode, and year of publication.\n",
        "#     Write 1-2 sentences about what you're trying to show.\n",
        "\n",
        "import pandas as pd\n",
        "import seaborn as sns\n",
        "import matplotlib.pyplot as plt\n",
        "\n",
        "data_url = \"https://github.com/michaelbilow/open-data/raw/main/spotify-2023.xlsx\"\n",
        "df = pd.read_excel(data_url)\n",
        "\n",
        "artist_streams = df.groupby('Artist')['Streams'].sum().sort_values(ascending=True)\n",
        "top_artists = artist_streams.tail(5)\n",
        "\n",
        "plt.figure(figsize=(10, 6))\n",
        "custom_palette = sns.color_palette(\"Greys_r\", n_colors=len(top_artists))\n",
        "sns.barplot(x=top_artists.values, y=top_artists.index, palette=custom_palette)\n",
        "\n",
        "plt.xlabel('Streams')\n",
        "plt.ylabel('Artist')\n",
        "plt.title('Top 5 Artists by Streams in 2023')\n",
        "plt.show()\n",
        "\n",
        "#This visualisation is referring to top artist worlwide to display the overall top artists rather than user specific as I saw in my spotify wrap."
      ],
      "metadata": {
        "colab": {
          "base_uri": "https://localhost:8080/",
          "height": 653
        },
        "id": "9We6nl9QcqOi",
        "outputId": "4ae60430-95b4-443c-b7c6-c68c7d6188d1"
      },
      "execution_count": 18,
      "outputs": [
        {
          "output_type": "stream",
          "name": "stderr",
          "text": [
            "<ipython-input-18-42207d99b284>:20: FutureWarning: \n",
            "\n",
            "Passing `palette` without assigning `hue` is deprecated and will be removed in v0.14.0. Assign the `y` variable to `hue` and set `legend=False` for the same effect.\n",
            "\n",
            "  sns.barplot(x=top_artists.values, y=top_artists.index, palette=custom_palette)\n"
          ]
        },
        {
          "output_type": "display_data",
          "data": {
            "text/plain": [
              "<Figure size 1000x600 with 1 Axes>"
            ],
            "image/png": "[encoded data removed]"
          },
          "metadata": {}
        }
      ]
    },
    {
      "cell_type": "code",
      "source": [
        "# Q4) If you flip a fair coin 100 times (independently),\n",
        "#     what is the chance that more than 60 flips come up heads?\n",
        "#     Do not try to compute this value exactly; instead, use\n",
        "#     the simplest \"good\" approximation you can come up with.\n",
        "#     You should not write any code for this problem.# Q5) What are some Python libraries (or libraries in other\n",
        "#     programming languages) you think are fun or interesting to work with?\n",
        "#     pandas and scikit-learn are both very useful, but I'd argue\n",
        "#     they're not so fun or interesting.\n"
      ],
      "metadata": {
        "id": "4a6jFjiTgs4p"
      },
      "execution_count": null,
      "outputs": []
    },
    {
      "cell_type": "markdown",
      "source": [
        "$$P(X > 60) = \\sum_{k=61}^{100} P(X = k) $$\n",
        "\n",
        "Where:\n",
        "- \\( P(X > 60) \\) is the probability of getting more than 60 heads.\n",
        "- \\( P(X = k) \\) is the probability of getting exactly \\( k \\) heads.\n",
        "- \\( k \\) ranges from 61 to 100, as we're summing the probabilities from getting 61 heads to getting all 100 heads.\n",
        "\n",
        "The probability \\( P(X = k) \\) for each \\( k \\) is calculated using the binomial probability formula:\n",
        "\n",
        "$P(X = k) = \\binom{100}{k} \\times 0.5^k \\times (1-0.5)^{100-k}$\n",
        "\n",
        "So, the complete expression for \\( P(X > 60) \\) in terms of summation is:\n",
        "\n",
        "$P(X > 60) = \\sum_{k=61}^{100} \\binom{100}{k} \\times 0.5^k \\times 0.5^{100-k}$\n",
        "\n",
        "This formula represents the sum of the probabilities of getting 61, 62, ..., 100 heads in 100 coin flips. Each term in the summation corresponds to the probability of a specific number of heads occurring.\n",
        "\n",
        "Note: The same probability could be computed by approximation to a binomial normal distribution of 100 coin flips, but that would require probability against the z score, so I chose this method."
      ],
      "metadata": {
        "id": "3G2KLZiDjod3"
      }
    },
    {
      "cell_type": "code",
      "source": [
        "# Q5) What are some Python libraries (or libraries in other\n",
        "#     programming languages) you think are fun or interesting to work with?\n",
        "#     pandas and scikit-learn are both very useful, but I'd argue\n",
        "#     they're not so fun or interesting.\n"
      ],
      "metadata": {
        "id": "vr8lajNvl1Mr"
      },
      "execution_count": null,
      "outputs": []
    },
    {
      "cell_type": "markdown",
      "source": [
        "There are interesting packages coming in every domain these days but two libraries that I found particularly interesting are Gurobi and QuantLib.\n",
        "\n",
        "1. **Gurobi**: Gurobi is a powerful optimization library used for mathematical programming. It's efficient and widely used in operations research, finance, and supply chain management.\n",
        "\n",
        "2. **QuantLib**: QuantLib is a comprehensive library for quantitative finance and financial engineering. It provides tools for modeling, trading, and risk management across various financial instruments."
      ],
      "metadata": {
        "id": "m65Ppq-6mcZo"
      }
    },
    {
      "cell_type": "code",
      "source": [
        "# Q6) What tools do you use to help you code productively?\n",
        "#     For example, what editor/IDE do you prefer? Testing framework? Linter?\n",
        "#     Command line utilities? Other tools you like or recommend to friends?\n",
        "#     Is there something you've discovered recently but haven’t\n",
        "#     had time to learn yet?\n"
      ],
      "metadata": {
        "id": "EZ1DvPJbnI9R"
      },
      "execution_count": null,
      "outputs": []
    },
    {
      "cell_type": "markdown",
      "source": [
        "Editor/IDE: Jupyter Notebooks, VS Code, Pycharm and Spyder depending on the scope of the project.\n",
        "\n",
        "Testing Framework: Pytest but I barely need to test rigorously in Data Science projects.\n",
        "\n",
        "Linter: \"Python\" extension for VS Code provides linting capabilities through integration with tools like pylint or flake8.\n",
        "\n",
        "Command Line Utilities: git for version control and Docker for containerization.\n",
        "\n",
        "Other Tools: Apache data streaming and visualization tools like Spark, Kafka, Supersetand Knify. Nlp libraries like nltk, flair, Spacy and transformers.\n",
        "\n",
        "Recently Discovered: Graph data science capabilities in neo4j. I have used neo4j for cypher development, after implemennting graph algorithms in NetworkX in python. But I recently came across the capabilities for Centrality, Community detection etc. in neo4j. I am planning to complete certifications from graph academy for these."
      ],
      "metadata": {
        "id": "SVxaALL5sCtu"
      }
    }
  ]
}